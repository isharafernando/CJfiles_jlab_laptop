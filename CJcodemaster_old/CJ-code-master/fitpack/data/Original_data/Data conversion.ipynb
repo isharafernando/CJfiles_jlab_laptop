{
 "cells": [
  {
   "cell_type": "markdown",
   "metadata": {},
   "source": [
    "# Experimental data conversion and display"
   ]
  },
  {
   "cell_type": "code",
   "execution_count": 2,
   "metadata": {
    "collapsed": false
   },
   "outputs": [],
   "source": [
    "# Not all of these are needed here\n",
    "import sys,os, glob\n",
    "import numpy as np\n",
    "#from tools import tex,checkdir,load,save,fill_between\n",
    "#from tools import tex,plot_band,fill_between\n",
    "import pylab as py\n",
    "from  matplotlib import rc\n",
    "import matplotlib.gridspec as gridspec\n",
    "%matplotlib inline  \n",
    "%config InlineBackend.figure_format = 'retina'  \n",
    "rc('font',**{'family':'sans-serif','sans-serif':['Times-Roman']})\n",
    "rc('text',usetex=True)\n",
    "from scipy.integrate import quad\n",
    "import lhapdf\n",
    "import pandas as pd\n",
    "from  scipy.interpolate import  interp1d\n",
    "from scipy.interpolate import spline\n",
    "import scipy.interpolate\n",
    "from scipy.signal import savgol_filter\n",
    "from scipy.stats import gaussian_kde,norm,ks_2samp\n",
    "from scipy.optimize import minimize,root"
   ]
  },
  {
   "cell_type": "markdown",
   "metadata": {},
   "source": [
    "## HERA I+II combination"
   ]
  },
  {
   "cell_type": "code",
   "execution_count": 38,
   "metadata": {
    "collapsed": false
   },
   "outputs": [],
   "source": [
    "## transforms the HERA I+II combination into CJ format\n",
    "def HERA_12_to_CJ(infile,outfile,comment):\n",
    "  F=open(infile)\n",
    "  L=F.readlines()\n",
    "  F.close()\n",
    "    \n",
    "  ### exp. data\n",
    "  L=[l.strip().split() for l in L if l.strip()!='']\n",
    "  #L=L[0:4]\n",
    "  \n",
    "  mod=0    # removes unwanted columns (tot_nonproc)\n",
    "  for col in range(len(L[0])):\n",
    "    if 'tot' in L[0][col+mod]:\n",
    "      L = np.delete(L,col+mod,axis=1)\n",
    "      mod-=1\n",
    "  D = L[1:] ## actual data (removes first row of headers)  \n",
    "  D = map(lambda myList:map(float,myList),D)   # transforms into a matrix of floats\n",
    "  D = np.array(D)\n",
    "  \n",
    "  ### Swaps the Q2 and x  columns  (b/c CJ likes x, then Q2)\n",
    "  D[:,[0, 1]] = D[:,[1, 0]]\n",
    "\n",
    "  ### calculates total syst error = sum in quadrature of uncorr and all teh correlated errors\n",
    "  ### and inserts them in 6th position \n",
    "  syst = []\n",
    "  for d in D:\n",
    "    s = (sum(map(lambda x:x**2,d[6:]))+d[5]**2)**0.5\n",
    "    syst.append(s)\n",
    "  syst = np.array(syst)\n",
    "  D = np.insert(D,5,syst,axis=1)\n",
    "  \n",
    "  ### converts stat, syst, and uncorrelated syst from % of cross section to absolute value\n",
    "  Sigma = D[:,3:4]  # cross sections\n",
    "  D[:,4:7] = Sigma * D[:,4:7] / 100  # Each column in the D slice is multiplied element by element with Sigma\n",
    "  \n",
    "  # Manual headers for now  (may think of an automatic way of formatting the original ones later)\n",
    "  H = '    x            Q2           y           sig_r         stat         syst         uncor         cor1        cor2         ...\\n'\n",
    "  \n",
    "  #saves to outfile\n",
    "  F=open(outfile,'w')\n",
    "  F.write('# HERA I+II combined data for '+comment+'\\n') \n",
    "  F.write('# http://arxiv.org/abs/1506.06042v2 and http://hepdata.cedar.ac.uk/view/ins1377206\\n')\n",
    "  F.write('# Uncorrelated errors as fraction of xsec; correlated errors in % of measured cross section\\n')\n",
    "  F.write('.000  169 : Normalization error, no. of correlated errors\\n')\n",
    "  F.write(H)\n",
    "  np.savetxt(F,D,fmt='% .5e')   ### could be improved by using only '% .3f' for the correlated errors\n",
    "  F.close()\n",
    "\n",
    "  return H,D"
   ]
  },
  {
   "cell_type": "code",
   "execution_count": 39,
   "metadata": {
    "collapsed": false
   },
   "outputs": [],
   "source": [
    "root='HERA_I+II_combination/'\n",
    "HERA_12_to_CJ(root+'HERA1+2_CCem.dat','H2_CC_em','electron charged current');\n",
    "HERA_12_to_CJ(root+'HERA1+2_CCep.dat','H2_CC_ep','positron charged current');\n",
    "HERA_12_to_CJ(root+'HERA1+2_NCem.dat','H2_NC_em','electron charged current');\n",
    "HERA_12_to_CJ(root+'HERA1+2_NCep_920.dat','H2_NC_ep_1','positron neutral current E=920 GeV');\n",
    "HERA_12_to_CJ(root+'HERA1+2_NCep_820.dat','H2_NC_ep_2','positron neutral current E=820 GeV');\n",
    "HERA_12_to_CJ(root+'HERA1+2_NCep_575.dat','H2_NC_ep_3','positron neutral current E=575 GeV');\n",
    "HERA_12_to_CJ(root+'HERA1+2_NCep_460.dat','H2_NC_ep_4','positron neutral current E=460 GeV');"
   ]
  },
  {
   "cell_type": "code",
   "execution_count": null,
   "metadata": {
    "collapsed": true
   },
   "outputs": [],
   "source": []
  }
 ],
 "metadata": {
  "kernelspec": {
   "display_name": "Python 2",
   "language": "python2",
   "name": "python2"
  },
  "language_info": {
   "codemirror_mode": {
    "name": "ipython",
    "version": 2
   },
   "file_extension": ".py",
   "mimetype": "text/x-python",
   "name": "python",
   "nbconvert_exporter": "python",
   "pygments_lexer": "ipython2",
   "version": "2.7.11"
  }
 },
 "nbformat": 4,
 "nbformat_minor": 0
}
